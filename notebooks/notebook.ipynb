{
 "cells": [
  {
   "cell_type": "code",
   "execution_count": null,
   "id": "55cad721",
   "metadata": {},
   "outputs": [],
   "source": [
    "%pip install torch torchvision matplotlib pandas \n",
    "%pip install transformers\n"
   ]
  },
  {
   "cell_type": "code",
   "execution_count": null,
   "id": "e9fe3f86",
   "metadata": {},
   "outputs": [],
   "source": [
    "import torch\n",
    "import torchvision\n",
    "from torchvision import datasets, transforms\n",
    "import numpy as np\n",
    "import matplotlib.pyplot as plt\n",
    "import timm\n",
    "from timm.scheduler import CosineLRScheduler\n",
    "from timm.data.constants import IMAGENET_DEFAULT_MEAN, IMAGENET_DEFAULT_STD\n",
    "\n",
    "from torch.utils.data import random_split\n",
    "from sklearn.model_selection import train_test_split\n",
    "from torch.utils.data import Subset\n",
    "import torch.nn as nn\n",
    "import time\n",
    "\n",
    "\n",
    "from torch.utils.data import DataLoader\n",
    "\n",
    "# The device is currently optimized for MPS (Metal Performance Shaders) on macOS.\n",
    "# Feel free to change it to yours locally\n",
    "device = torch.device(\"cuda\" if torch.cuda.is_available() else \"cpu\")\n",
    "print(device)"
   ]
  },
  {
   "cell_type": "code",
   "execution_count": null,
   "id": "edaabb5f",
   "metadata": {},
   "outputs": [],
   "source": [
    "train_set = datasets.Food101(\"../data\", download=True)\n",
    "test_set = datasets.Food101(\"../data\", split=\"test\", download=True)\n",
    "\n",
    "classes = train_set.classes\n",
    "print(classes)\n",
    "\n",
    "img_count = len(train_set._image_files)\n",
    "# Print 6 random images\n",
    "for _ in range(6):\n",
    "  index = np.random.choice(img_count, replace=False)\n",
    "  plt.imshow(train_set[index][0])\n",
    "  plt.title(f\"Label: {classes[train_set[index][1]]}\")\n",
    "  plt.show()"
   ]
  },
  {
   "cell_type": "code",
   "execution_count": null,
   "id": "365205c8",
   "metadata": {},
   "outputs": [],
   "source": [
    "# Resize the images to 224x224\n",
    "train_transform = transforms.Compose([\n",
    "    transforms.RandomResizedCrop(224),\n",
    "    transforms.RandomHorizontalFlip(),\n",
    "    transforms.AutoAugment(policy=transforms.AutoAugmentPolicy.IMAGENET),\n",
    "    transforms.ToTensor(),\n",
    "    transforms.Normalize(IMAGENET_DEFAULT_MEAN, IMAGENET_DEFAULT_STD),\n",
    "])\n",
    "\n",
    "test_transform = transforms.Compose([\n",
    "  transforms.Resize((256, 256)),\n",
    "  transforms.CenterCrop(224),\n",
    "  transforms.ToTensor(),\n",
    "  transforms.Normalize(IMAGENET_DEFAULT_MEAN, IMAGENET_DEFAULT_STD)\n",
    "])\n",
    "\n",
    "train_set.transform = train_transform\n",
    "test_set.transform = test_transform\n",
    "\n",
    "for _ in range(6):\n",
    "  index = np.random.choice(img_count, replace=False)\n",
    "  plt.imshow(train_set[index][0].permute(1, 2, 0).numpy())\n",
    "  plt.title(f\"Label: {classes[train_set[index][1]]}\")\n",
    "  plt.show()"
   ]
  },
  {
   "cell_type": "code",
   "execution_count": null,
   "id": "574cd93a",
   "metadata": {},
   "outputs": [],
   "source": [
    "# Prepare the model\n",
    "# Load from Timm instead of huggingface (Had an error)\n",
    "model = timm.create_model(\n",
    "    'deit_small_patch16_224.fb_in1k', \n",
    "    pretrained=True,num_classes=len(classes),\n",
    "    drop_rate=0.3,\n",
    "    drop_path_rate=0.1,)\n",
    "model = model.to(device)\n",
    "\n",
    "# I want to test the output of the pretrained on a random image (PROTOTYPE REASONS ONLY)\n",
    "index = np.random.choice(img_count, replace=False)\n",
    "img, label = train_set[index]\n",
    "img = img.to(device).unsqueeze(0) \n",
    "output = model(img)\n",
    "print(f\"Output shape: {output.shape}\")\n",
    "print(f\"Predicted class index: {output.argmax(dim=1).item()}\")\n",
    "print(f\"Predicted class label: {classes[output.argmax(dim=1).item()]}\")\n",
    "print(f\"True class label: {classes[label]}\")"
   ]
  },
  {
   "cell_type": "code",
   "execution_count": null,
   "id": "acc9ba4c",
   "metadata": {},
   "outputs": [],
   "source": []
  },
  {
   "cell_type": "code",
   "execution_count": null,
   "id": "ff180db2",
   "metadata": {},
   "outputs": [],
   "source": [
    "# Split dataset \n",
    "print(f\"Train size: {len(train_set)}, Test size: {len(test_set)}\")"
   ]
  },
  {
   "cell_type": "code",
   "execution_count": null,
   "id": "b401ba26",
   "metadata": {},
   "outputs": [],
   "source": [
    "# Data Loader\n",
    "batch_size = 48\n",
    "\n",
    "train_loader = DataLoader(train_set, batch_size=batch_size, shuffle=True, num_workers=16, pin_memory=True)\n",
    "test_loader = DataLoader(test_set, batch_size=batch_size, shuffle=False, num_workers=16, pin_memory=True)"
   ]
  },
  {
   "cell_type": "code",
   "execution_count": null,
   "id": "a83292d2",
   "metadata": {},
   "outputs": [],
   "source": [
    "# Cross entropy loss and Adam Optimizer\n",
    "loss = nn.CrossEntropyLoss(label_smoothing=0.1)\n",
    "optimizer = torch.optim.AdamW(model.parameters(), lr=1e-4, weight_decay=1e-4)\n",
    "\n",
    "epochs = 25\n",
    "warmup_epochs = 3\n",
    "\n",
    "scheduler = CosineLRScheduler(\n",
    "    optimizer,\n",
    "    t_initial=epochs,\n",
    "    lr_min=1e-6,\n",
    "    warmup_lr_init=1e-5,\n",
    "    warmup_t=warmup_epochs,\n",
    "    cycle_limit=1,\n",
    "    t_in_epochs=True,\n",
    ")\n"
   ]
  },
  {
   "cell_type": "code",
   "execution_count": null,
   "id": "77505707",
   "metadata": {},
   "outputs": [],
   "source": [
    "print(f\"Training for {epochs} epochs...\")\n",
    "for epoch in range(epochs):\n",
    "    start_time = time.time()\n",
    "    print(\n",
    "        f\"Epoch {epoch+1} started at {time.strftime('%H:%M:%S', time.localtime(start_time))}\"\n",
    "    )\n",
    "    # Training loop above\n",
    "    model.train()\n",
    "    running_loss = 0.0\n",
    "    for batch in train_loader:\n",
    "        images, labels = batch\n",
    "        images, labels = images.to(device), labels.to(device)\n",
    "\n",
    "        optimizer.zero_grad()\n",
    "        outputs = model(images)\n",
    "        loss_value = loss(outputs, labels)\n",
    "        loss_value.backward()\n",
    "        optimizer.step()\n",
    "\n",
    "        running_loss += loss_value.item()\n",
    "    progress = (epoch + 1) / epochs * 100\n",
    "\n",
    "    scheduler.step(epoch + 1)\n",
    "    end_time = time.time()\n",
    "    print(f\"Epoch {epoch+1} ended at {time.strftime('%H:%M:%S', time.localtime(end_time))}\")\n",
    "    print(f\"Time taken for epoch {epoch+1}: {end_time - start_time:.2f} seconds\")\n",
    "    print(f\"Progress: {progress:.2f}%\")\n",
    "    print(f\"Epoch [{epoch+1}/{epochs}], LR: {scheduler._get_lr(epoch)[0]:.6f}, Loss: {running_loss/len(train_loader):.4f}\")"
   ]
  },
  {
   "cell_type": "code",
   "execution_count": null,
   "id": "23e7acc9",
   "metadata": {},
   "outputs": [],
   "source": [
    "# eval\n",
    "model.eval()\n",
    "correct = 0\n",
    "total = 0\n",
    "with torch.no_grad():\n",
    "    for batch in test_loader:\n",
    "        images, labels = batch\n",
    "        images, labels = images.to(device), labels.to(device)\n",
    "\n",
    "        outputs = model(images)\n",
    "        _, predicted = torch.max(outputs, 1)\n",
    "        total += labels.size(0)\n",
    "        correct += (predicted == labels).sum().item()\n",
    "\n",
    "accuracy = correct / total\n",
    "print(f\"Test Accuracy: {accuracy:.4f}\")\n",
    "# Accuracy on 1 epoch: 59%\n",
    "# Accuracy on 6 epoch: 69.81%"
   ]
  }
 ],
 "metadata": {
  "kernelspec": {
   "display_name": "Python 3",
   "language": "python",
   "name": "python3"
  },
  "language_info": {
   "codemirror_mode": {
    "name": "ipython",
    "version": 3
   },
   "file_extension": ".py",
   "mimetype": "text/x-python",
   "name": "python",
   "nbconvert_exporter": "python",
   "pygments_lexer": "ipython3",
   "version": "3.9.13"
  }
 },
 "nbformat": 4,
 "nbformat_minor": 5
}
